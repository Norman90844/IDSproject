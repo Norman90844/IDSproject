{
 "cells": [
  {
   "cell_type": "markdown",
   "id": "d2772d0a",
   "metadata": {},
   "source": [
    "# Data science project"
   ]
  },
  {
   "cell_type": "markdown",
   "id": "f1f24bc2",
   "metadata": {},
   "source": [
    "Saadan teile failid .zip kujul. CSV failides on kaks andmetabelit, mis koosnevad sünteetilitest andmetest, mis põhinevad reaalsete vähihaigete (kopsu ja eesnäärme) haigustrajektooridel. Andmetabelitel on kolm tunnust SUBJECT_ID - unikaalne patsiendi id; DEFINITION_ID - meditsiiniline sekkumine, mis patsiendiga toimus; TIME - aeg aastates, millal sekkumine toimus. Ajal 0 sai iga patsient vähidiagnoosi. Osadel patsientidest on olemas seisund \"death\", mis tähendab, et see patsient suri antud ajahetkel. Kõikide patsientide puhul on kustutatud aasta enne suremist/viimast üleskirjutist.\n",
    "\n",
    "Teie ülesanne on ennustada patsientide suremust 1-aasta käigus (mil andmed lõppevad), ehk siis klassifitseerimisülesanne, kus klass 1 - patsient sureb; 0 - patsient jääb aasta jooksul ellu. Üks viis andmeid töödelda, selleks, et neid mudelitele ette sööta, on iga unikaalne sekkumine ja selle järjekorra number muuta eraldi tunnuseks, tekitada iga patsiendi kohta üks rida ja väärtuseks võtta aeg. Kuid igasugune andmete töötlemine on teie enda vaba valik. Te võite tekitada klassifitseerija ükskõik millisel meetodil: otsustuspuud, närvivõrgud, logistiline regressioon vms. \n",
    "\n",
    "Üks peamine probleem terviseandmetega on tõsisasi, et need on üsna mürased. Erinevate sekkumiste all on peidetud definitsioonid, millest osad on arvatavasti ennustamiseks olulised (näiteks \"keemiaravi\") ja teised mitte nii väga (näiteks \"nägemiskontroll\"). Müraste andmete/tunnuste eemaldamine võib antud ülesande puhul suuresti tõsta mudeli täpsust. Käesoleva ülesande juures on tähtis, et te ei või eeldada, et sekkumiste definitsioonid on erinevate andmetabelite seas sama tähendusega (antud juhul näiteks, et Drug_1 on sama, mis Drug_1 teises andmestikus).\n",
    "\n",
    "Töö tulemuseks peaks olema töövoog, mis võtab samasuguse andmetabeli sisendiks ning väljastaks AUC-ROC väärtuse ja mudeli enda. Seda võib teha nii jupyter-notebookis kui ka skripti kujul.\n",
    "\n",
    "ZIP failist leiate kaks andmetabelit, võite üht kasutada töövoo loomiseks ja teist selleks, et seda valideerida. Andmed on sünteetilised ja pole üksteisega seotud (SUBJECT_ID väärtus 1 ühes ei tähenda, et tegu on sama inimesega teises andmetabelis). Mul endal on ligipääs päris andmetele, mida ma teiega kahjuks jagada ei saa, aga ma võin jooksutada teie töövoogu päris andmetel ja jagada teiega tulemusi. Te võite väljundisse lisada erinevat statistikat, mida soovite pärisandmetelt saada. Need väljundid peavad olema summeeritud, mis tähendab, et ma ei saa teiega jagada patsiendi tasemel andmeid.\n",
    "\n",
    "Ma ise loodan, et teie loodud töövoog selekteeriks tunnuseid. Parim terviseandmete mudel on võimalikult väikese arvu tunnustega, samuti teades neid tunnuseid saab edendada teadustööd nii haiguste kui ka nende ärahoidmise/ravimise kohta. Samuti soovitan julgelt proovida graafi loomist ning sellelt \"key-playerite\" jms leidmist, see oleks innovaatiline viis tunnuste valimiseks.\n",
    "\n",
    "FYI, neid samu andmeid kasutades sain ma juhumetsaga AUCROC'i 0.65 ja pärast tunnuste selekteerimist oli AUCROC 0.75. Juhul kui töö tulemus on hea ja kasutatav ka muude haiguste ennustusmudelite loomisel on võimalus saada oma nimi teadusartiklile 🙂 \n",
    "\n",
    " Hello!\n",
    "\n",
    "I was contacted regarding the concern about death times occurring later than a year from last medical intervention. The problem is present because of my coding error 🙂 This is okay and does not mess up the overall purpose of your workflow. You can consider all persons who have the \"death\"  state as dying within one year.\n",
    "\n",
    "Sorry about the confusion,"
   ]
  },
  {
   "cell_type": "markdown",
   "id": "b1e90af1",
   "metadata": {},
   "source": [
    "# Lung Cancer Survival Prediction with Synthetic Data\n",
    "\n",
    "Objective:\n",
    "Utilize synthetic medical data to predict 5-year survival rates post-lung cancer diagnosis by effectively selecting key features from patient treatment trajectories.\n",
    "Possible approach:\n",
    "1. Feature Selection: Use algorithms like PCA and Stepwise Selection to identify crucial features.\n",
    "2. Subsequence Analysis: Find frequent subsequences within treatment trajectories for additional predictive value. Effectiveness (performance) of the algorithm is important.\n",
    "3. Use network science approach. Using graphs and extracting key-player nodes as features and using them for prediction.\n",
    "4. Any custom approach.\n",
    "End result:\n",
    "Predictive Model: Develop a workflow that, given patient treatment trajectory data, outputs a 5-year survival prediction. Workflow will be tested on a test set not seen by students and compared with other groups work.\n",
    "Outcome:\n",
    "A concise list of significant features, an understanding of vital treatment subsequences, and a prediction function for stakeholder use. Possibility to get published!"
   ]
  },
  {
   "cell_type": "code",
   "execution_count": 1,
   "id": "5090b735",
   "metadata": {},
   "outputs": [
    {
     "data": {
      "text/plain": [
       "(        SUBJECT_ID     DEFINITION_ID      TIME\n",
       " 0                1          drug_217  0.004807\n",
       " 1                1    condition_1922  0.008643\n",
       " 2                1     condition_785  0.027792\n",
       " 3                1           drug_49  0.032515\n",
       " 4                1   measurement_132  0.056765\n",
       " ...            ...               ...       ...\n",
       " 560966         984  measurement_1141  0.027321\n",
       " 560967         984   observation_156  0.028739\n",
       " 560968         984  measurement_1140  0.030802\n",
       " 560969         984  measurement_1327  0.035081\n",
       " 560970         984     condition_459  0.038022\n",
       " \n",
       " [560971 rows x 3 columns],\n",
       "         SUBJECT_ID     DEFINITION_ID      TIME\n",
       " 0                1     condition_141  0.019808\n",
       " 1                1     condition_144  0.068319\n",
       " 2                1          drug_108  0.069314\n",
       " 3                1     condition_621  0.093951\n",
       " 4                1          drug_283  0.133907\n",
       " ...            ...               ...       ...\n",
       " 542732         777   measurement_441  4.168139\n",
       " 542733         777   measurement_153  4.170336\n",
       " 542734         777  measurement_1245  4.632134\n",
       " 542735         777   measurement_831  4.637782\n",
       " 542736         777     condition_684  4.650676\n",
       " \n",
       " [542737 rows x 3 columns])"
      ]
     },
     "execution_count": 1,
     "metadata": {},
     "output_type": "execute_result"
    }
   ],
   "source": [
    "# Reading the files\n",
    "import pandas as pd\n",
    "\n",
    "from sklearn.model_selection import train_test_split\n",
    "\n",
    "from sklearn.ensemble import RandomForestClassifier\n",
    "from sklearn.model_selection import GridSearchCV\n",
    "from sklearn.metrics import roc_auc_score\n",
    "\n",
    "data=pd.read_csv(\"synthetic_data_lung_cancer.csv\")\n",
    "validation=pd.read_csv(\"synthetic_data_pca.csv\")\n",
    "\n",
    "data,validation"
   ]
  },
  {
   "cell_type": "code",
   "execution_count": 6,
   "id": "eb2be3f4",
   "metadata": {},
   "outputs": [],
   "source": [
    "def prepare_features_and_labels(df):\n",
    "    \"\"\"\n",
    "    Prepares the features and labels for model training from the dataset.\n",
    "    \n",
    "    Args:\n",
    "    - df: A pandas DataFrame containing the data with 'SUBJECT_ID', 'DEFINITION_ID', and 'TIME' columns.\n",
    "    \n",
    "    Returns:\n",
    "    - X: Features DataFrame ready for training.\n",
    "    - y: Labels Series indicating whether death occurred within a year.\n",
    "    \"\"\"\n",
    "    # Step 1: Extract general categories from DEFINITION_ID\n",
    "    df['category'] = df['DEFINITION_ID'].str.extract(r'(\\D+)')\n",
    "\n",
    "    # Step 2: Count occurrences of each category per patient\n",
    "    category_counts = df.pivot_table(index='SUBJECT_ID', columns='category', aggfunc='size', fill_value=0)\n",
    "\n",
    "    # Step 3: Calculate time-based features\n",
    "    df['time_of_first_intervention'] = df.groupby('SUBJECT_ID')['TIME'].transform('min')\n",
    "    df['time_since_last_intervention'] = df.groupby('SUBJECT_ID')['TIME'].transform('max')\n",
    "    df['duration_of_treatment'] = df['time_since_last_intervention'] - df['time_of_first_intervention']\n",
    "    df['average_time_between_interventions'] = df.groupby('SUBJECT_ID')['TIME'].transform(lambda x: x.diff().mean() if len(x) > 1 else 0)\n",
    "\n",
    "    # Aggregate these features into a single dataframe, ensuring one row per patient\n",
    "    time_features = df.groupby('SUBJECT_ID')[['time_of_first_intervention', 'time_since_last_intervention', \n",
    "                                              'duration_of_treatment', 'average_time_between_interventions']].first().reset_index()\n",
    "\n",
    "    # Combine counts of categories with time-based features\n",
    "    features_data = pd.merge(category_counts, time_features, on='SUBJECT_ID')\n",
    "\n",
    "    # Step 4: Identify 'death' events and create the binary target variable\n",
    "    death_events = df[df['DEFINITION_ID'] == 'death']['SUBJECT_ID'].unique()\n",
    "    features_data['death'] = features_data['SUBJECT_ID'].isin(death_events).astype(int)\n",
    "\n",
    "    # Drop 'SUBJECT_ID' as it is not a feature\n",
    "    features_data.drop('SUBJECT_ID', axis=1, inplace=True)\n",
    "\n",
    "    # Split the combined data into features and labels\n",
    "    X = features_data.drop('death', axis=1)\n",
    "    y = features_data['death']\n",
    "    \n",
    "    return X, y\n",
    "\n",
    "# Example usage:\n",
    "# X_train, y_train = prepare_features_and_labels(training_data)\n",
    "# X_validation, y_validation = prepare_features_and_labels(validation_data)\n"
   ]
  },
  {
   "cell_type": "code",
   "execution_count": null,
   "id": "acb92282",
   "metadata": {},
   "outputs": [],
   "source": []
  },
  {
   "cell_type": "code",
   "execution_count": null,
   "id": "79647145",
   "metadata": {
    "scrolled": false
   },
   "outputs": [],
   "source": [
    "X"
   ]
  },
  {
   "cell_type": "code",
   "execution_count": 7,
   "id": "57b05cd4",
   "metadata": {},
   "outputs": [
    {
     "name": "stdout",
     "output_type": "stream",
     "text": [
      "Fitting 5 folds for each of 108 candidates, totalling 540 fits\n"
     ]
    },
    {
     "data": {
      "text/html": [
       "<style>#sk-container-id-1 {color: black;}#sk-container-id-1 pre{padding: 0;}#sk-container-id-1 div.sk-toggleable {background-color: white;}#sk-container-id-1 label.sk-toggleable__label {cursor: pointer;display: block;width: 100%;margin-bottom: 0;padding: 0.3em;box-sizing: border-box;text-align: center;}#sk-container-id-1 label.sk-toggleable__label-arrow:before {content: \"▸\";float: left;margin-right: 0.25em;color: #696969;}#sk-container-id-1 label.sk-toggleable__label-arrow:hover:before {color: black;}#sk-container-id-1 div.sk-estimator:hover label.sk-toggleable__label-arrow:before {color: black;}#sk-container-id-1 div.sk-toggleable__content {max-height: 0;max-width: 0;overflow: hidden;text-align: left;background-color: #f0f8ff;}#sk-container-id-1 div.sk-toggleable__content pre {margin: 0.2em;color: black;border-radius: 0.25em;background-color: #f0f8ff;}#sk-container-id-1 input.sk-toggleable__control:checked~div.sk-toggleable__content {max-height: 200px;max-width: 100%;overflow: auto;}#sk-container-id-1 input.sk-toggleable__control:checked~label.sk-toggleable__label-arrow:before {content: \"▾\";}#sk-container-id-1 div.sk-estimator input.sk-toggleable__control:checked~label.sk-toggleable__label {background-color: #d4ebff;}#sk-container-id-1 div.sk-label input.sk-toggleable__control:checked~label.sk-toggleable__label {background-color: #d4ebff;}#sk-container-id-1 input.sk-hidden--visually {border: 0;clip: rect(1px 1px 1px 1px);clip: rect(1px, 1px, 1px, 1px);height: 1px;margin: -1px;overflow: hidden;padding: 0;position: absolute;width: 1px;}#sk-container-id-1 div.sk-estimator {font-family: monospace;background-color: #f0f8ff;border: 1px dotted black;border-radius: 0.25em;box-sizing: border-box;margin-bottom: 0.5em;}#sk-container-id-1 div.sk-estimator:hover {background-color: #d4ebff;}#sk-container-id-1 div.sk-parallel-item::after {content: \"\";width: 100%;border-bottom: 1px solid gray;flex-grow: 1;}#sk-container-id-1 div.sk-label:hover label.sk-toggleable__label {background-color: #d4ebff;}#sk-container-id-1 div.sk-serial::before {content: \"\";position: absolute;border-left: 1px solid gray;box-sizing: border-box;top: 0;bottom: 0;left: 50%;z-index: 0;}#sk-container-id-1 div.sk-serial {display: flex;flex-direction: column;align-items: center;background-color: white;padding-right: 0.2em;padding-left: 0.2em;position: relative;}#sk-container-id-1 div.sk-item {position: relative;z-index: 1;}#sk-container-id-1 div.sk-parallel {display: flex;align-items: stretch;justify-content: center;background-color: white;position: relative;}#sk-container-id-1 div.sk-item::before, #sk-container-id-1 div.sk-parallel-item::before {content: \"\";position: absolute;border-left: 1px solid gray;box-sizing: border-box;top: 0;bottom: 0;left: 50%;z-index: -1;}#sk-container-id-1 div.sk-parallel-item {display: flex;flex-direction: column;z-index: 1;position: relative;background-color: white;}#sk-container-id-1 div.sk-parallel-item:first-child::after {align-self: flex-end;width: 50%;}#sk-container-id-1 div.sk-parallel-item:last-child::after {align-self: flex-start;width: 50%;}#sk-container-id-1 div.sk-parallel-item:only-child::after {width: 0;}#sk-container-id-1 div.sk-dashed-wrapped {border: 1px dashed gray;margin: 0 0.4em 0.5em 0.4em;box-sizing: border-box;padding-bottom: 0.4em;background-color: white;}#sk-container-id-1 div.sk-label label {font-family: monospace;font-weight: bold;display: inline-block;line-height: 1.2em;}#sk-container-id-1 div.sk-label-container {text-align: center;}#sk-container-id-1 div.sk-container {/* jupyter's `normalize.less` sets `[hidden] { display: none; }` but bootstrap.min.css set `[hidden] { display: none !important; }` so we also need the `!important` here to be able to override the default hidden behavior on the sphinx rendered scikit-learn.org. See: https://github.com/scikit-learn/scikit-learn/issues/21755 */display: inline-block !important;position: relative;}#sk-container-id-1 div.sk-text-repr-fallback {display: none;}</style><div id=\"sk-container-id-1\" class=\"sk-top-container\"><div class=\"sk-text-repr-fallback\"><pre>GridSearchCV(cv=5, estimator=RandomForestClassifier(random_state=42), n_jobs=-1,\n",
       "             param_grid={&#x27;max_depth&#x27;: [None, 10, 20, 30],\n",
       "                         &#x27;min_samples_leaf&#x27;: [1, 2, 4],\n",
       "                         &#x27;min_samples_split&#x27;: [2, 5, 10],\n",
       "                         &#x27;n_estimators&#x27;: [100, 200, 300]},\n",
       "             scoring=&#x27;roc_auc&#x27;, verbose=2)</pre><b>In a Jupyter environment, please rerun this cell to show the HTML representation or trust the notebook. <br />On GitHub, the HTML representation is unable to render, please try loading this page with nbviewer.org.</b></div><div class=\"sk-container\" hidden><div class=\"sk-item sk-dashed-wrapped\"><div class=\"sk-label-container\"><div class=\"sk-label sk-toggleable\"><input class=\"sk-toggleable__control sk-hidden--visually\" id=\"sk-estimator-id-1\" type=\"checkbox\" ><label for=\"sk-estimator-id-1\" class=\"sk-toggleable__label sk-toggleable__label-arrow\">GridSearchCV</label><div class=\"sk-toggleable__content\"><pre>GridSearchCV(cv=5, estimator=RandomForestClassifier(random_state=42), n_jobs=-1,\n",
       "             param_grid={&#x27;max_depth&#x27;: [None, 10, 20, 30],\n",
       "                         &#x27;min_samples_leaf&#x27;: [1, 2, 4],\n",
       "                         &#x27;min_samples_split&#x27;: [2, 5, 10],\n",
       "                         &#x27;n_estimators&#x27;: [100, 200, 300]},\n",
       "             scoring=&#x27;roc_auc&#x27;, verbose=2)</pre></div></div></div><div class=\"sk-parallel\"><div class=\"sk-parallel-item\"><div class=\"sk-item\"><div class=\"sk-label-container\"><div class=\"sk-label sk-toggleable\"><input class=\"sk-toggleable__control sk-hidden--visually\" id=\"sk-estimator-id-2\" type=\"checkbox\" ><label for=\"sk-estimator-id-2\" class=\"sk-toggleable__label sk-toggleable__label-arrow\">estimator: RandomForestClassifier</label><div class=\"sk-toggleable__content\"><pre>RandomForestClassifier(random_state=42)</pre></div></div></div><div class=\"sk-serial\"><div class=\"sk-item\"><div class=\"sk-estimator sk-toggleable\"><input class=\"sk-toggleable__control sk-hidden--visually\" id=\"sk-estimator-id-3\" type=\"checkbox\" ><label for=\"sk-estimator-id-3\" class=\"sk-toggleable__label sk-toggleable__label-arrow\">RandomForestClassifier</label><div class=\"sk-toggleable__content\"><pre>RandomForestClassifier(random_state=42)</pre></div></div></div></div></div></div></div></div></div></div>"
      ],
      "text/plain": [
       "GridSearchCV(cv=5, estimator=RandomForestClassifier(random_state=42), n_jobs=-1,\n",
       "             param_grid={'max_depth': [None, 10, 20, 30],\n",
       "                         'min_samples_leaf': [1, 2, 4],\n",
       "                         'min_samples_split': [2, 5, 10],\n",
       "                         'n_estimators': [100, 200, 300]},\n",
       "             scoring='roc_auc', verbose=2)"
      ]
     },
     "execution_count": 7,
     "metadata": {},
     "output_type": "execute_result"
    }
   ],
   "source": [
    "X, y = prepare_features_and_labels(data)\n",
    "X_validation, y_validation = prepare_features_and_labels(validation)\n",
    "\n",
    "# Define the parameter grid to search\n",
    "param_grid = {\n",
    "    'n_estimators': [100, 200, 300],  # Number of trees in the forest\n",
    "    'max_depth': [None, 10, 20, 30],  # Maximum depth of the tree\n",
    "    'min_samples_split': [2, 5, 10],  # Minimum number of samples required to split an internal node\n",
    "    'min_samples_leaf': [1, 2, 4],    # Minimum number of samples required to be at a leaf node\n",
    "    # Add other parameters here if you want\n",
    "}\n",
    "\n",
    "# Initialize the RandomForestClassifier\n",
    "rf_classifier = RandomForestClassifier(random_state=42)\n",
    "\n",
    "# Initialize GridSearchCV with the classifier, parameter grid, and desired scoring metric\n",
    "grid_search = GridSearchCV(estimator=rf_classifier, param_grid=param_grid, \n",
    "                           cv=5, n_jobs=-1, scoring='roc_auc', verbose=2)\n",
    "\n",
    "# Fit GridSearchCV to the training data\n",
    "grid_search.fit(X, y)\n",
    "\n"
   ]
  },
  {
   "cell_type": "code",
   "execution_count": 9,
   "id": "3a2a5ea2",
   "metadata": {},
   "outputs": [
    {
     "name": "stdout",
     "output_type": "stream",
     "text": [
      "Best Parameters: {'max_depth': 10, 'min_samples_leaf': 1, 'min_samples_split': 10, 'n_estimators': 100}\n",
      "Best AUC-ROC on Validation: 0.8835988367604292\n"
     ]
    }
   ],
   "source": [
    "# Get the best estimator\n",
    "best_rf_classifier = grid_search.best_estimator_\n",
    "\n",
    "# Optionally, evaluate on the validation set\n",
    "X_validation = X_validation.reindex(columns=X.columns, fill_value=0)  # Ensuring column match\n",
    "y_pred_proba_validation = best_rf_classifier.predict_proba(X_validation)[:, 1]\n",
    "auc_roc_validation = roc_auc_score(y_validation, y_pred_proba_validation)\n",
    "\n",
    "print(\"Best Parameters:\", grid_search.best_params_)\n",
    "print(\"Best AUC-ROC on Validation:\", auc_roc_validation)\n"
   ]
  },
  {
   "cell_type": "code",
   "execution_count": 15,
   "id": "64f05586",
   "metadata": {},
   "outputs": [
    {
     "data": {
      "text/plain": [
       "0.8871245850168566"
      ]
     },
     "execution_count": 15,
     "metadata": {},
     "output_type": "execute_result"
    }
   ],
   "source": [
    "X, y = prepare_features_and_labels(data)\n",
    "X_validation, y_validation = prepare_features_and_labels(validation)\n",
    "\n",
    "rf_classifier = RandomForestClassifier(random_state=42, max_depth= 10, min_samples_leaf= 1, min_samples_split = 10, n_estimators= 300)\n",
    "rf_classifier.fit(X,y)\n",
    "\n",
    "# Ensure that the columns in the validation set match the training set\n",
    "X_validation = X_validation.reindex(columns=X.columns, fill_value=0)\n",
    "\n",
    "# Predict the probabilities on the validation set\n",
    "y_pred_proba_validation = rf_classifier.predict_proba(X_validation)[:, 1]\n",
    "\n",
    "# Calculate the AUC-ROC score on the validation set\n",
    "auc_roc_validation = roc_auc_score(y_validation, y_pred_proba_validation)\n",
    "\n",
    "auc_roc_validation\n"
   ]
  },
  {
   "cell_type": "markdown",
   "id": "19887bc2",
   "metadata": {},
   "source": [
    "# edasised cellid vanad"
   ]
  },
  {
   "cell_type": "code",
   "execution_count": 11,
   "id": "846d980c",
   "metadata": {},
   "outputs": [
    {
     "ename": "NameError",
     "evalue": "name 'features' is not defined",
     "output_type": "error",
     "traceback": [
      "\u001b[1;31m---------------------------------------------------------------------------\u001b[0m",
      "\u001b[1;31mNameError\u001b[0m                                 Traceback (most recent call last)",
      "Cell \u001b[1;32mIn[11], line 8\u001b[0m\n\u001b[0;32m      1\u001b[0m \u001b[38;5;66;03m# Sample a subset of the data to create a smaller graph for analysis\u001b[39;00m\n\u001b[0;32m      2\u001b[0m \n\u001b[0;32m      3\u001b[0m \u001b[38;5;66;03m# We will take a random sample of patients and their corresponding interventions\u001b[39;00m\n\u001b[0;32m      4\u001b[0m \n\u001b[0;32m      5\u001b[0m \n\u001b[0;32m      6\u001b[0m \u001b[38;5;66;03m# Since the data may be ordered by SUBJECT_ID, we shuffle the data to get a random sample\u001b[39;00m\n\u001b[1;32m----> 8\u001b[0m data_sample \u001b[38;5;241m=\u001b[39m features\u001b[38;5;241m.\u001b[39msample(frac\u001b[38;5;241m=\u001b[39m\u001b[38;5;241m1\u001b[39m, random_state\u001b[38;5;241m=\u001b[39m\u001b[38;5;241m1\u001b[39m)\n\u001b[0;32m     10\u001b[0m data_sample\u001b[38;5;241m.\u001b[39mreset_index(drop\u001b[38;5;241m=\u001b[39m\u001b[38;5;28;01mTrue\u001b[39;00m, inplace\u001b[38;5;241m=\u001b[39m\u001b[38;5;28;01mTrue\u001b[39;00m)\n\u001b[0;32m     13\u001b[0m \u001b[38;5;66;03m# Let's take a sample of 5% of the data to make the graph computation tractable\u001b[39;00m\n",
      "\u001b[1;31mNameError\u001b[0m: name 'features' is not defined"
     ]
    }
   ],
   "source": [
    "# Sample a subset of the data to create a smaller graph for analysis\n",
    "\n",
    "# We will take a random sample of patients and their corresponding interventions\n",
    "\n",
    "\n",
    "# Since the data may be ordered by SUBJECT_ID, we shuffle the data to get a random sample\n",
    "\n",
    "data_sample = features.sample(frac=1, random_state=1)\n",
    "\n",
    "data_sample.reset_index(drop=True, inplace=True)\n",
    "\n",
    "\n",
    "# Let's take a sample of 5% of the data to make the graph computation tractable\n",
    "\n",
    "sample_size = int(0.5 * len(data_sample))\n",
    "\n",
    "data_sample = data_sample.head(sample_size)\n",
    "\n",
    "\n",
    "\n",
    "# Create a new graph from the sampled data\n",
    "\n",
    "G_sample = nx.Graph()\n",
    "\n",
    "\n",
    "\n",
    "# Add nodes and edges from the sampled dataset\n",
    "\n",
    "for index, row in data_sample.iterrows():\n",
    "\n",
    "    # Add node if it doesn't exist\n",
    "\n",
    "    if not G_sample.has_node(row['DEFINITION_ID']):\n",
    "\n",
    "        G_sample.add_node(row['DEFINITION_ID'])\n",
    "\n",
    "    \n",
    "\n",
    "    # Since the data is ordered by time for each SUBJECT_ID, we can link sequential interventions\n",
    "\n",
    "    if index > 0 and data_sample.iloc[index - 1]['SUBJECT_ID'] == row['SUBJECT_ID']:\n",
    "\n",
    "        prev_definition_id = data_sample.iloc[index - 1]['DEFINITION_ID']\n",
    "\n",
    "        # If edge does not exist, add with weight 1, otherwise increase weight\n",
    "\n",
    "        if not G_sample.has_edge(prev_definition_id, row['DEFINITION_ID']):\n",
    "\n",
    "            G_sample.add_edge(prev_definition_id, row['DEFINITION_ID'], weight=1)\n",
    "\n",
    "        else:\n",
    "\n",
    "            G_sample[prev_definition_id][row['DEFINITION_ID']]['weight'] += 1\n",
    "\n",
    "\n",
    "# Calculate centrality measures on the sample graph again\n",
    "\n",
    "degree_centrality_sample = nx.degree_centrality(G_sample)\n",
    "\n",
    "betweenness_centrality_sample = nx.betweenness_centrality(G_sample)\n",
    "\n",
    "closeness_centrality_sample = nx.closeness_centrality(G_sample)\n",
    "\n",
    "\n"
   ]
  },
  {
   "cell_type": "code",
   "execution_count": null,
   "id": "4d398801",
   "metadata": {},
   "outputs": [],
   "source": [
    "# Identify key players using degree centrality from the full graph\n",
    "key_players_by_degree_full = sorted(degree_centrality_sample.items(), key=lambda item: item[1], reverse=True)\n",
    "\n",
    "# Retrieve the top 100 key players from the full dataset\n",
    "top_key_players_full = key_players_by_degree_full[:300]\n",
    "\n",
    "top_key_players_full"
   ]
  },
  {
   "cell_type": "code",
   "execution_count": null,
   "id": "90868493",
   "metadata": {},
   "outputs": [],
   "source": [
    "# We will now split the data with the corrected labels\n",
    "X_train, X_test, y_train, y_test = train_test_split(\n",
    "    key_features_data_scaled, pivot_data_label, test_size=0.2, random_state=42, stratify=pivot_data_label)\n",
    "\n",
    "# Train the logistic regression model using the corrected data\n",
    "logreg = LogisticRegression(max_iter=10000)\n",
    "logreg.fit(X_train, y_train)\n",
    "\n",
    "# Predict probabilities for the test set\n",
    "y_pred_proba = logreg.predict_proba(X_test)[:, 1]\n",
    "\n",
    "# Calculate the AUC-ROC score for the test set\n",
    "auc_roc = roc_auc_score(y_test, y_pred_proba)\n",
    "\n",
    "auc_roc\n"
   ]
  },
  {
   "cell_type": "code",
   "execution_count": null,
   "id": "8cdb1c7a",
   "metadata": {},
   "outputs": [],
   "source": [
    "from imblearn.over_sampling import SMOTE\n",
    "from sklearn.ensemble import RandomForestClassifier\n",
    "\n",
    "# Initialize SMOTE\n",
    "smote = SMOTE(random_state=42)\n",
    "\n",
    "# Apply SMOTE to the training data only\n",
    "X_train_smote, y_train_smote = smote.fit_resample(X_train, y_train)\n",
    "\n",
    "# Initialize the Random Forest Classifier\n",
    "rf_smote = RandomForestClassifier(random_state=42)\n",
    "\n",
    "# Train the Random Forest Classifier on the SMOTE-resampled training data\n",
    "rf_smote.fit(X_train_smote, y_train_smote)\n",
    "\n",
    "# Predict probabilities for the test set\n",
    "y_pred_proba_rf_smote = rf_smote.predict_proba(X_test)[:, 1]\n",
    "\n",
    "# Calculate the AUC-ROC score for the test set using the Random Forest model trained on SMOTE data\n",
    "auc_roc_rf_smote = roc_auc_score(y_test, y_pred_proba_rf_smote)\n",
    "\n",
    "# Output the SMOTE class distribution and the AUC-ROC score\n",
    "smote_class_distribution = pd.Series(y_train_smote).value_counts(), auc_roc_rf_smote\n",
    "\n",
    "auc_roc_rf_smote"
   ]
  },
  {
   "cell_type": "code",
   "execution_count": null,
   "id": "45d8371b",
   "metadata": {},
   "outputs": [],
   "source": [
    "#old code\n",
    "\n",
    "# Correcting the approach to create the target label 'death'\n",
    "\n",
    "# Recreate the pivot table for the development dataset\n",
    "pivot_data = data.pivot_table(index='SUBJECT_ID', columns='DEFINITION_ID', values='TIME', aggfunc='first')\n",
    "\n",
    "# Correctly identify the 'death' entries within the 'DEFINITION_ID' column and assign the binary label\n",
    "# '1' for death within a year and '0' for survival\n",
    "death_events = data[data['DEFINITION_ID'] == 'death']['SUBJECT_ID'].unique()\n",
    "pivot_data['death'] = pivot_data.index.isin(death_events).astype(int)\n",
    "\n",
    "# Drop the 'death' column from features\n",
    "pivot_data_features = pivot_data.drop('death', axis=1)\n",
    "pivot_data_label = pivot_data['death']\n",
    "\n",
    "# Display the first few rows of the features and the distribution of the label\n",
    "pivot_data_features_head = pivot_data_features.head()\n",
    "pivot_data_label_distribution = pivot_data_label.value_counts()\n",
    "\n",
    "pivot_data_features_head, pivot_data_label_distribution\n"
   ]
  },
  {
   "cell_type": "code",
   "execution_count": null,
   "id": "e1935e70",
   "metadata": {},
   "outputs": [],
   "source": []
  }
 ],
 "metadata": {
  "kernelspec": {
   "display_name": "Python 3 (ipykernel)",
   "language": "python",
   "name": "python3"
  },
  "language_info": {
   "codemirror_mode": {
    "name": "ipython",
    "version": 3
   },
   "file_extension": ".py",
   "mimetype": "text/x-python",
   "name": "python",
   "nbconvert_exporter": "python",
   "pygments_lexer": "ipython3",
   "version": "3.11.4"
  }
 },
 "nbformat": 4,
 "nbformat_minor": 5
}
